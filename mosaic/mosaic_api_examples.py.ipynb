{
 "cells": [
  {
   "cell_type": "code",
   "execution_count": null,
   "metadata": {},
   "outputs": [],
   "source": [
    "import json \n",
    "import numpy as np\n",
    "import cv2\n",
    "import os\n",
    "from os.path import join\n",
    "from skimage.restoration import inpaint_biharmonic\n",
    "\n",
    "from mosaic.mosaic_api import SaltData, Mosaic, Mosaics\n",
    "from src.transforms import CenterCrop\n",
    "\n",
    "import matplotlib.pyplot as plt\n",
    "%matplotlib inline"
   ]
  },
  {
   "cell_type": "code",
   "execution_count": null,
   "metadata": {},
   "outputs": [],
   "source": [
    "def imshow(image, figsize=(3, 3)):\n",
    "    plt.figure(figsize=figsize)\n",
    "    plt.imshow(image)\n",
    "    plt.show()"
   ]
  },
  {
   "cell_type": "code",
   "execution_count": null,
   "metadata": {},
   "outputs": [],
   "source": [
    "mosaic_path = '/workdir/data/mosaic/pazzles_6013.csv'\n",
    "saltdata = SaltData(mosaic_csv_path=mosaic_path)"
   ]
  },
  {
   "cell_type": "code",
   "execution_count": null,
   "metadata": {},
   "outputs": [],
   "source": [
    "len(saltdata.train_ids), len(saltdata.test_ids), len(saltdata.mosaics.mosaic_id2mosaic)"
   ]
  },
  {
   "cell_type": "code",
   "execution_count": null,
   "metadata": {},
   "outputs": [],
   "source": [
    "# Mosaic list \n",
    "mosaic = saltdata.mosaics[79]\n",
    "mosaic"
   ]
  },
  {
   "cell_type": "code",
   "execution_count": null,
   "metadata": {},
   "outputs": [],
   "source": [
    "# Get neighbors of tile with id \n",
    "neighbors = saltdata.get_neighbors('a37249665e')\n",
    "neighbors"
   ]
  },
  {
   "cell_type": "code",
   "execution_count": null,
   "metadata": {},
   "outputs": [],
   "source": [
    "# Neighbors visualization \n",
    "vis_img = saltdata.draw_visualization(neighbors)\n",
    "imshow(vis_img)"
   ]
  },
  {
   "cell_type": "code",
   "execution_count": null,
   "metadata": {},
   "outputs": [],
   "source": [
    "# Full mosaic visualization \n",
    "vis_img = saltdata.draw_visualization(mosaic.array)\n",
    "imshow(vis_img, figsize=(7, 7))\n",
    "mosaic"
   ]
  },
  {
   "cell_type": "code",
   "execution_count": null,
   "metadata": {},
   "outputs": [],
   "source": [
    "print('c2ec2c9de4' in saltdata.mosaics)\n",
    "print(saltdata.in_mosaics('c2ec2c9de4'))\n",
    "print('c2ec2c9de4' in mosaic)\n",
    "print(saltdata.in_train('c2ec2c9de4'))\n",
    "print(saltdata.mosaics.id2mosaic_id['c2ec2c9de4'])\n",
    "saltdata.mosaics.id2mosaic['c2ec2c9de4']"
   ]
  },
  {
   "cell_type": "code",
   "execution_count": null,
   "metadata": {},
   "outputs": [],
   "source": [
    "center = CenterCrop((148, 148))"
   ]
  },
  {
   "cell_type": "code",
   "execution_count": null,
   "metadata": {},
   "outputs": [],
   "source": [
    "stacked_image, image_unknown_mask = saltdata.get_stacked_images(neighbors, return_unknown_mask=True)\n",
    "inpaint_image = inpaint_biharmonic(center(stacked_image), center(image_unknown_mask))\n",
    "\n",
    "imshow(stacked_image)\n",
    "imshow(image_unknown_mask)\n",
    "imshow(inpaint_image)"
   ]
  },
  {
   "cell_type": "code",
   "execution_count": null,
   "metadata": {},
   "outputs": [],
   "source": [
    "stacked_mask, mask_unknown_mask = saltdata.get_stacked_masks(neighbors, return_unknown_mask=True)\n",
    "if np.sum(center(mask_unknown_mask)):\n",
    "    inpaint_mask = inpaint_biharmonic(center(stacked_mask), center(mask_unknown_mask))\n",
    "    imshow(inpaint_mask)\n",
    "\n",
    "imshow(stacked_mask)\n",
    "imshow(mask_unknown_mask)"
   ]
  },
  {
   "cell_type": "code",
   "execution_count": null,
   "metadata": {},
   "outputs": [],
   "source": []
  }
 ],
 "metadata": {
  "kernelspec": {
   "display_name": "Python 3",
   "language": "python",
   "name": "python3"
  },
  "language_info": {
   "codemirror_mode": {
    "name": "ipython",
    "version": 3
   },
   "file_extension": ".py",
   "mimetype": "text/x-python",
   "name": "python",
   "nbconvert_exporter": "python",
   "pygments_lexer": "ipython3",
   "version": "3.6.5"
  }
 },
 "nbformat": 4,
 "nbformat_minor": 2
}
