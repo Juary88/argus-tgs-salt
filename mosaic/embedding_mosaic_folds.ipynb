{
 "cells": [
  {
   "cell_type": "code",
   "execution_count": 1,
   "metadata": {},
   "outputs": [
    {
     "name": "stdout",
     "output_type": "stream",
     "text": [
      "please compile abn\n"
     ]
    }
   ],
   "source": [
    "import cv2\n",
    "import torch\n",
    "import numpy as np\n",
    "from sklearn.metrics import mean_absolute_error\n",
    "from sklearn.metrics.pairwise import cosine_similarity\n",
    "from collections import defaultdict, Counter\n",
    "import json\n",
    "\n",
    "from argus import load_model\n",
    "\n",
    "from src.transforms import SimpleDepthTransform, SaltTransform, CenterCrop\n",
    "from src.argus_models import SeResnextFPNProb50\n",
    "from mosaic.mosaic_api import SaltData\n",
    "\n",
    "import matplotlib.pyplot as plt\n",
    "%matplotlib inline"
   ]
  },
  {
   "cell_type": "code",
   "execution_count": 2,
   "metadata": {},
   "outputs": [],
   "source": [
    "def imshow(image, figsize=(4, 4)):\n",
    "    plt.figure(figsize=figsize)\n",
    "    plt.imshow(image)\n",
    "    plt.show()"
   ]
  },
  {
   "cell_type": "code",
   "execution_count": 3,
   "metadata": {},
   "outputs": [],
   "source": [
    "ORIG_IMAGE_SIZE = (101, 101)\n",
    "PRED_IMAGE_SIZE = (128, 128)\n",
    "TRANSFORM_MODE = \"crop\"\n",
    "\n",
    "\n",
    "class EmbeddingPredictor:\n",
    "    def __init__(self, model_path, device=None):\n",
    "        self.model = load_model(model_path, device=None)\n",
    "        self.model.nn_module.eval()\n",
    "\n",
    "        self.depth_trns = SimpleDepthTransform()\n",
    "        self.crop_trns = CenterCrop(ORIG_IMAGE_SIZE)\n",
    "        self.trns = SaltTransform(PRED_IMAGE_SIZE, False, TRANSFORM_MODE)\n",
    "\n",
    "    def __call__(self, image):\n",
    "        tensor = self.depth_trns(image, 0)\n",
    "        tensor = self.trns(tensor)\n",
    "        tensor = tensor.unsqueeze(0).to(self.model.device)\n",
    "\n",
    "        with torch.no_grad():\n",
    "            embedding = self.model.nn_module.embedding_forward(tensor)\n",
    "        embedding = embedding.cpu().numpy()[0]\n",
    "\n",
    "        return np.log1p(embedding)"
   ]
  },
  {
   "cell_type": "code",
   "execution_count": 4,
   "metadata": {},
   "outputs": [],
   "source": [
    "model_path = '/workdir/data/experiments/fpn-lovasz-se-resnext50-006/fold_0/model-246-0.851148.pth'\n",
    "\n",
    "emb_model = EmbeddingPredictor(model_path)"
   ]
  },
  {
   "cell_type": "code",
   "execution_count": 5,
   "metadata": {},
   "outputs": [],
   "source": [
    "mosaic_path = '/workdir/data/mosaic/pazzles_6013.csv'\n",
    "saltdata = SaltData(mosaic_csv_path=mosaic_path, images_dir_name='images148', masks_dir_name='masks148')"
   ]
  },
  {
   "cell_type": "code",
   "execution_count": null,
   "metadata": {},
   "outputs": [],
   "source": [
    "id2emb = dict()\n",
    "for id in saltdata.ids:\n",
    "    emb = emb_model(saltdata.id2image[id])\n",
    "    id2emb[id] = emb"
   ]
  },
  {
   "cell_type": "code",
   "execution_count": null,
   "metadata": {},
   "outputs": [],
   "source": [
    "id2emb_lst = {id: emb.tolist() for id, emb in id2emb.items()}\n",
    "\n",
    "with open('id2emb.json', 'w') as file:\n",
    "    file.write(json.dumps(id2emb_lst))"
   ]
  },
  {
   "cell_type": "code",
   "execution_count": 6,
   "metadata": {},
   "outputs": [],
   "source": [
    "# mosaic_folds = [\n",
    "#     [0, 3, 22, 24, 62, 73, 76, 85, 88, 99, 114, 116, 125, 133, 135],\n",
    "#     [1, 2, 8, 31, 43, 45, 141],\n",
    "#     [10, 14, 15, 23, 42, 65, 113, 131],\n",
    "#     [4, 16, 21, 28, 33, 60, 91, 95, 96, 98, 111, 120, 123, 130, 138, 153, 182],\n",
    "#     [5, 19, 29, 32, 36, 37, 40, 41, 46, 50, 51, 54, 59, 66, 67, 82, 86, 126, 136, 139, 140, 145, 156, 183],\n",
    "#     [6, 9, 11, 12, 26, 30, 52, 53, 61, 70, 84, 97, 106, 124, 128, 129],\n",
    "#     [57, 63, 64, 68, 81, 83, 94, 104, 105, 150, 163, 173, 174, 176],\n",
    "#     [13, 17, 18, 121],\n",
    "#     [7, 20, 25, 27, 34, 38, 39, 44, 47, 48, 49, 55, 56, 58, 69, 72, 74, 127, 77],\n",
    "#     [35, 71, 75, 78, 79, 80, 87, 89, 90, 92, 93, 100, 101, 102, 103, 107, 108, 109, 110, 112, 115, 117, 118, 119, 122, 143, 144]\n",
    "# ]\n",
    "\n",
    "mosaic_folds = [\n",
    "    [0, 3, 22, 24, 62, 73, 76, 85, 88, 99, 114, 116, 125, 133, 135] + [7, 20, 25, 27, 34, 38, 39, 44, 47, 48, 49, 55, 56, 58, 69, 72, 74, 127, 77], # 0\n",
    "    [1, 2, 8, 31, 43, 45, 141] + [10, 14, 15, 23, 42, 65, 113, 131], # 1\n",
    "    [4, 16, 21, 28, 33, 60, 91, 95, 96, 98, 111, 120, 123, 130, 138, 153, 182] + [35, 71, 75, 78, 79, 80, 87, 89, 90, 92, 93, 100, 101, 102, 103, 107, 108, 109, 110, 112, 115, 117, 118, 119, 122, 143, 144], # 2\n",
    "    [5, 19, 29, 32, 36, 37, 40, 41, 46, 50, 51, 54, 59, 66, 67, 82, 86, 126, 136, 139, 140, 145, 156, 183], # 3\n",
    "    [6, 9, 11, 12, 26, 30, 52, 53, 61, 70, 84, 97, 106, 124, 128, 129], # 4\n",
    "    [57, 63, 64, 68, 81, 83, 94, 104, 105, 150, 163, 173, 174, 176] + [13, 17, 18, 121], # 5\n",
    "]\n",
    "\n",
    "fold2mosaic_ids = {i: m for i, m in enumerate(mosaic_folds)}\n",
    "\n",
    "fold2ids = dict()\n",
    "for fold, mosaic_ids in fold2mosaic_ids.items():\n",
    "    fold_ids = set()\n",
    "    for mosaic_id in mosaic_ids:\n",
    "        mosaic = saltdata.mosaics.mosaic_id2mosaic[mosaic_id]\n",
    "        fold_ids |= mosaic.ids - saltdata.test_ids\n",
    "    fold2ids[fold] = fold_ids\n",
    "    \n",
    "id2fold = dict()\n",
    "for fold, ids in fold2ids.items():\n",
    "    for id in ids:\n",
    "        id2fold[id] = fold\n",
    "        \n",
    "with open('/workdir/data/mosaic/id2pred_fold.json') as file:\n",
    "    id2pred_fold = json.loads(file.read())\n",
    "        \n",
    "for id, fold in id2pred_fold.items():\n",
    "    id2fold[id] = fold\n",
    "    fold2ids[fold] |= set([id])\n",
    "\n",
    "fold_ids = set(id2fold.keys())"
   ]
  },
  {
   "cell_type": "code",
   "execution_count": null,
   "metadata": {},
   "outputs": [],
   "source": [
    "with open('/workdir/data/mosaic/id2fold.json', 'w') as file:\n",
    "    file.write(json.dumps(id2fold))"
   ]
  },
  {
   "cell_type": "code",
   "execution_count": 7,
   "metadata": {},
   "outputs": [
    {
     "data": {
      "text/plain": [
       "{0: 666, 1: 666, 2: 666, 3: 666, 4: 666, 5: 590}"
      ]
     },
     "execution_count": 7,
     "metadata": {},
     "output_type": "execute_result"
    }
   ],
   "source": [
    "fold2len = {fold: len(ids) for fold, ids in fold2ids.items()}\n",
    "fold2len"
   ]
  },
  {
   "cell_type": "code",
   "execution_count": 8,
   "metadata": {},
   "outputs": [
    {
     "data": {
      "text/plain": [
       "{0: 0.7039492683547187,\n",
       " 1: 0.39591831808281175,\n",
       " 2: 0.4927113664002205,\n",
       " 3: 0.5924095353072903,\n",
       " 4: 0.5639603430506284,\n",
       " 5: 0.426223750080999}"
      ]
     },
     "execution_count": 8,
     "metadata": {},
     "output_type": "execute_result"
    }
   ],
   "source": [
    "{fold: np.mean([np.sum(saltdata.id2mask[id]) / (101*101*255) for id in ids]) for fold, ids in fold2ids.items()}"
   ]
  },
  {
   "cell_type": "markdown",
   "metadata": {},
   "source": [
    "# Distribute unmosaic train tiles between folds"
   ]
  },
  {
   "cell_type": "code",
   "execution_count": null,
   "metadata": {},
   "outputs": [],
   "source": [
    "from sklearn.metrics.pairwise import cosine_distances\n",
    "\n",
    "\n",
    "def get_nearest(id):\n",
    "    dist_lst = []\n",
    "    for infold_id in id2fold:\n",
    "        dist = cosine_distances(id2emb[id][np.newaxis], id2emb[infold_id][np.newaxis])[0, 0]\n",
    "        dist_lst.append((dist, infold_id, id2fold[infold_id]))\n",
    "    dist_lst = sorted(dist_lst, key=lambda x: x[0])\n",
    "    return dist_lst"
   ]
  },
  {
   "cell_type": "code",
   "execution_count": null,
   "metadata": {},
   "outputs": [],
   "source": [
    "len(id2fold)"
   ]
  },
  {
   "cell_type": "code",
   "execution_count": null,
   "metadata": {
    "scrolled": true
   },
   "outputs": [],
   "source": [
    "import tqdm \n",
    "\n",
    "train_unfold_ids = saltdata.train_ids - fold_ids\n",
    "\n",
    "unfold_id2fold_dists = dict()\n",
    "for id in tqdm.tqdm(train_unfold_ids):\n",
    "    unfold_id2fold_dists[id] = get_nearest(id)"
   ]
  },
  {
   "cell_type": "code",
   "execution_count": null,
   "metadata": {},
   "outputs": [],
   "source": [
    "fold_dists = sorted(unfold_id2fold_dists.items(), key=lambda x: x[1][0][0])\n",
    "\n",
    "id2pred_fold = dict()\n",
    "pred_fold2len = defaultdict(int)\n",
    "\n",
    "for id, nearest_dists in fold_dists:\n",
    "    for dist, another_id, fold in nearest_dists:\n",
    "        fold_len = fold2len[fold] + pred_fold2len[fold]\n",
    "        if fold_len < 666:\n",
    "            id2pred_fold[id] = fold\n",
    "            pred_fold2len[fold] += 1\n",
    "            break\n",
    "            \n",
    "    if id not in id2pred_fold:\n",
    "        raise Exception"
   ]
  },
  {
   "cell_type": "code",
   "execution_count": null,
   "metadata": {},
   "outputs": [],
   "source": [
    "from collections import Counter\n",
    "Counter(id2pred_fold.values())"
   ]
  },
  {
   "cell_type": "code",
   "execution_count": null,
   "metadata": {},
   "outputs": [],
   "source": [
    "{fold: len(ids) for fold, ids in fold2ids.items()}"
   ]
  },
  {
   "cell_type": "code",
   "execution_count": null,
   "metadata": {},
   "outputs": [],
   "source": [
    "with open('/workdir/data/mosaic/id2pred_fold.json', 'w') as file:\n",
    "    file.write(json.dumps(id2pred_fold))"
   ]
  },
  {
   "cell_type": "code",
   "execution_count": null,
   "metadata": {},
   "outputs": [],
   "source": [
    "id = '1cec04bb12'\n",
    "\n",
    "dist_lst = []\n",
    "for infold_id in tqdm.tqdm(id2emb):\n",
    "    dist = cosine_distances(id2emb[infold_id][np.newaxis], id2emb[id][np.newaxis])\n",
    "    dist_lst.append((infold_id, dist))\n",
    "dist_lst = sorted(dist_lst, key=lambda x: x[1])"
   ]
  },
  {
   "cell_type": "markdown",
   "metadata": {},
   "source": [
    "# Nearest tile in another fold"
   ]
  },
  {
   "cell_type": "code",
   "execution_count": null,
   "metadata": {},
   "outputs": [],
   "source": [
    "from sklearn.metrics.pairwise import manhattan_distances, cosine_distances\n",
    "\n",
    "train_id_lst = sorted(saltdata.train_ids)\n",
    "train_emb_lst = [id2emb[id] for id in train_id_lst]\n",
    "train_X = np.stack(train_emb_lst, axis=0)\n",
    "\n",
    "dist_array = cosine_distances(train_X)\n",
    "dist_array.shape"
   ]
  },
  {
   "cell_type": "code",
   "execution_count": null,
   "metadata": {},
   "outputs": [],
   "source": [
    "N = 0\n",
    "fold_n_ids = fold2ids[N]\n",
    "another_folds_ids = fold_ids - fold_n_ids\n",
    "id2index_train_id_lst = {id:train_id_lst.index(id) for id in train_id_lst}\n",
    "\n",
    "for id in fold_n_ids:\n",
    "    id_index = train_id_lst.index(id)\n",
    "    for anothe_id in another_folds_ids:\n",
    "        if id == anothe_id:\n",
    "            continue\n",
    "        anothe_id_index = train_id_lst.index(anothe_id)\n",
    "        \n",
    "        dist = dist_array[id_index, anothe_id_index]\n",
    "        if dist < 0.04:\n",
    "            print(id, anothe_id, dist, id2fold[id], id2fold[anothe_id],\n",
    "                  saltdata.mosaics.id2mosaic_id[id], saltdata.mosaics.id2mosaic_id[anothe_id])\n",
    "    "
   ]
  },
  {
   "cell_type": "code",
   "execution_count": null,
   "metadata": {},
   "outputs": [],
   "source": [
    "N = 0\n",
    "M = 1\n",
    "\n",
    "def compare_folds(M, N):\n",
    "    fold_n_ids = fold2ids[N]\n",
    "    fold_m_ids = fold2ids[M]\n",
    "    another_folds_ids = fold_ids - fold_n_ids\n",
    "    id2index_train_id_lst = {id:train_id_lst.index(id) for id in train_id_lst}\n",
    "\n",
    "    sum_dist = 0\n",
    "    count = 0\n",
    "\n",
    "    for id in fold_n_ids:\n",
    "        id_index = train_id_lst.index(id)\n",
    "        for anothe_id in fold_m_ids:\n",
    "            anothe_id_index = train_id_lst.index(anothe_id)\n",
    "\n",
    "            dist = dist_array[id_index, anothe_id_index]\n",
    "            \n",
    "            if dist < 0.04:\n",
    "                print(M, N, id, anothe_id, dist)\n",
    "\n",
    "            sum_dist += dist\n",
    "            count += 1\n",
    "    return sum_dist / count"
   ]
  },
  {
   "cell_type": "code",
   "execution_count": null,
   "metadata": {},
   "outputs": [],
   "source": [
    "dist_folds_lst = []\n",
    "\n",
    "for i in range(len(fold2ids)):\n",
    "    for j in range(i+1, len(fold2ids)):\n",
    "        mean_dist = compare_folds(i, j)\n",
    "        dist_folds_lst.append((i, j, mean_dist))\n",
    "        print((i, j, mean_dist))"
   ]
  },
  {
   "cell_type": "code",
   "execution_count": null,
   "metadata": {},
   "outputs": [],
   "source": [
    "id1, id2 = 'a2da67afff', 'b7c462dd1c'\n",
    "\n",
    "print(id2fold[id1], id2fold[id2])\n",
    "\n",
    "image1 = saltdata.id2image[id1]\n",
    "emb1 = emb_model(image1) \n",
    "# 1cec04bb12.png bfbb9b9149.png 7c0b76979f\n",
    "image2 = saltdata.id2image[id2]\n",
    "emb2 = emb_model(image2) \n",
    "\n",
    "imshow(image1)\n",
    "imshow(image2)\n",
    "cosine_distances(emb1[np.newaxis], emb2[np.newaxis])"
   ]
  },
  {
   "cell_type": "code",
   "execution_count": null,
   "metadata": {},
   "outputs": [],
   "source": []
  }
 ],
 "metadata": {
  "kernelspec": {
   "display_name": "Python 3",
   "language": "python",
   "name": "python3"
  },
  "language_info": {
   "codemirror_mode": {
    "name": "ipython",
    "version": 3
   },
   "file_extension": ".py",
   "mimetype": "text/x-python",
   "name": "python",
   "nbconvert_exporter": "python",
   "pygments_lexer": "ipython3",
   "version": "3.6.5"
  }
 },
 "nbformat": 4,
 "nbformat_minor": 2
}
