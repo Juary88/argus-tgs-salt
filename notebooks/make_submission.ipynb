{
 "cells": [
  {
   "cell_type": "code",
   "execution_count": null,
   "metadata": {},
   "outputs": [],
   "source": [
    "import os\n",
    "from os.path import join\n",
    "import numpy as np\n",
    "import pandas as pd\n",
    "import cv2\n",
    "\n",
    "from src import config\n",
    "from src.utils import RLenc\n",
    "\n",
    "PREDICTION_DIR = '/workdir/data/predictions/train-folds-005'\n",
    "FOLDS = [0, 1, 2, 3, 4]\n",
    "\n",
    "\n",
    "segm_thresh = 0.5\n",
    "prob_thresh = 0.5"
   ]
  },
  {
   "cell_type": "code",
   "execution_count": null,
   "metadata": {},
   "outputs": [],
   "source": [
    "def get_mean_probs_df(pred_dir):\n",
    "    probs_df_lst = []\n",
    "    for i in range(len(FOLDS)):\n",
    "        fold_dir = os.path.join(pred_dir, f'fold_{FOLDS[i]}')\n",
    "        probs_df = pd.read_csv(join(fold_dir, 'test', 'probs.csv'), index_col='id')\n",
    "        probs_df_lst.append(probs_df)\n",
    "\n",
    "    mean_probs_df = probs_df_lst[0].copy()\n",
    "    for probs_df in probs_df_lst[1:]:\n",
    "        mean_probs_df.prob += probs_df.prob\n",
    "    mean_probs_df.prob /= len(probs_df_lst)\n",
    "\n",
    "    return mean_probs_df"
   ]
  },
  {
   "cell_type": "code",
   "execution_count": null,
   "metadata": {},
   "outputs": [],
   "source": [
    "mean_probs_df = get_mean_probs_df(PREDICTION_DIR)"
   ]
  },
  {
   "cell_type": "code",
   "execution_count": null,
   "metadata": {},
   "outputs": [],
   "source": [
    "sample_submition = pd.read_csv(config.SAMPLE_SUBM_PATH)\n",
    "\n",
    "for i, row in sample_submition.iterrows():\n",
    "    pred_name = row.id+'.npy'\n",
    "    pred_lst = []\n",
    "    for i in range(len(FOLDS)):\n",
    "        fold_dir = os.path.join(PREDICTION_DIR, f'fold_{FOLDS[i]}')\n",
    "        pred_path = join(fold_dir, 'test', pred_name)\n",
    "        pred = np.load(pred_path)\n",
    "        pred_lst.append(pred)\n",
    "        \n",
    "    mean_pred = np.mean(pred_lst, axis=0)\n",
    "    prob = mean_probs_df.loc[row.id].prob\n",
    "    \n",
    "    pred = mean_pred > segm_thresh\n",
    "    prob = int(prob > prob_thresh)\n",
    "    pred = (pred * prob).astype(np.uint8)\n",
    "\n",
    "    rle_mask = RLenc(pred)\n",
    "    row.rle_mask = rle_mask\n",
    "\n",
    "sample_submition.to_csv('/workdir/data/submissions/train-folds-005-0.45-mean.csv', index=False) "
   ]
  },
  {
   "cell_type": "code",
   "execution_count": null,
   "metadata": {},
   "outputs": [],
   "source": [
    "import matplotlib.pyplot as plt\n",
    "%matplotlib inline\n",
    "\n",
    "plt.hist(mean_probs_df.prob.values, bins=20)"
   ]
  },
  {
   "cell_type": "code",
   "execution_count": null,
   "metadata": {},
   "outputs": [],
   "source": [
    "sample_submition = pd.read_csv(config.SAMPLE_SUBM_PATH)\n",
    "input_dir = '/workdir/data/predictions/mean-005-0.40_draw/'\n",
    "for i, row in sample_submition.iterrows():\n",
    "    pred_name = row.id+'.png'\n",
    "    pred = cv2.imread(join(input_dir, pred_name), cv2.IMREAD_GRAYSCALE)\n",
    "    pred = pred > 0\n",
    "    rle_mask = RLenc(pred.astype(np.uint8))\n",
    "    row.rle_mask = rle_mask\n",
    "\n",
    "sample_submition.to_csv('/workdir/data/submissions/mean-005-0.40_draw.csv', index=False) "
   ]
  },
  {
   "cell_type": "code",
   "execution_count": null,
   "metadata": {},
   "outputs": [],
   "source": [
    "sample_submition.to_csv('/workdir/data/submissions/mean-003-0.40_draw.csv', index=False) "
   ]
  },
  {
   "cell_type": "code",
   "execution_count": null,
   "metadata": {},
   "outputs": [],
   "source": []
  }
 ],
 "metadata": {
  "kernelspec": {
   "display_name": "Python 3",
   "language": "python",
   "name": "python3"
  },
  "language_info": {
   "codemirror_mode": {
    "name": "ipython",
    "version": 3
   },
   "file_extension": ".py",
   "mimetype": "text/x-python",
   "name": "python",
   "nbconvert_exporter": "python",
   "pygments_lexer": "ipython3",
   "version": "3.6.5"
  }
 },
 "nbformat": 4,
 "nbformat_minor": 2
}
