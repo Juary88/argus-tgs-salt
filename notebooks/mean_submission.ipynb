{
 "cells": [
  {
   "cell_type": "code",
   "execution_count": null,
   "metadata": {},
   "outputs": [],
   "source": [
    "import os\n",
    "from os.path import join\n",
    "import numpy as np\n",
    "import pandas as pd\n",
    "import cv2\n",
    "\n",
    "from src import config\n",
    "from src.utils import RLenc, make_dir\n",
    "\n",
    "PREDICTION_DIRS = [\n",
    "    '/workdir/data/predictions/mos-fpn-lovasz-se-resnext50-001/'\n",
    "]\n",
    "FOLDS = [0, 1, 2, 3, 4, 5]\n",
    "FOLD_DIRS = [join(p, 'fold_%d'%f) for p in PREDICTION_DIRS for f in FOLDS]\n",
    "\n",
    "PREDICTION_DIRS = [\n",
    "    '/workdir/data/predictions/fpn-lovasz-se-resnext50-006-after-001/',\n",
    "]\n",
    "\n",
    "FOLDS = [0, 1, 2, 3, 4]\n",
    "FOLD_DIRS += [join(p, 'fold_%d'%f) for p in PREDICTION_DIRS for f in FOLDS]\n",
    "\n",
    "segm_thresh = 0.4\n",
    "prob_thresh = 0.5\n",
    "\n",
    "SAVE_NAME = 'mean-005-0.4'\n",
    "\n",
    "make_dir(f'/workdir/data/{SAVE_NAME}')"
   ]
  },
  {
   "cell_type": "code",
   "execution_count": null,
   "metadata": {},
   "outputs": [],
   "source": [
    "FOLD_DIRS"
   ]
  },
  {
   "cell_type": "code",
   "execution_count": null,
   "metadata": {},
   "outputs": [],
   "source": [
    "def get_mean_probs_df():\n",
    "    probs_df_lst = []\n",
    "    for fold_dir in FOLD_DIRS:\n",
    "        probs_df = pd.read_csv(join(fold_dir, 'test', 'probs.csv'), index_col='id')\n",
    "        probs_df_lst.append(probs_df)\n",
    "\n",
    "    mean_probs_df = probs_df_lst[0].copy()\n",
    "    for probs_df in probs_df_lst[1:]:\n",
    "        mean_probs_df.prob += probs_df.prob\n",
    "    mean_probs_df.prob /= len(probs_df_lst)\n",
    "\n",
    "    return mean_probs_df"
   ]
  },
  {
   "cell_type": "code",
   "execution_count": null,
   "metadata": {},
   "outputs": [],
   "source": [
    "mean_probs_df = get_mean_probs_df()"
   ]
  },
  {
   "cell_type": "code",
   "execution_count": null,
   "metadata": {},
   "outputs": [],
   "source": [
    "sample_submition = pd.read_csv(config.SAMPLE_SUBM_PATH)\n",
    "\n",
    "for i, row in sample_submition.iterrows():\n",
    "    pred_name = row.id+'.png'\n",
    "    pred_lst = []\n",
    "    for fold_dir in FOLD_DIRS:\n",
    "        pred_path = join(fold_dir, 'test', pred_name)\n",
    "        pred = cv2.imread(pred_path, cv2.IMREAD_GRAYSCALE)\n",
    "        pred = pred / 255\n",
    "        pred_lst.append(pred)\n",
    "        \n",
    "    mean_pred = np.mean(pred_lst, axis=0)\n",
    "    prob = mean_probs_df.loc[row.id].prob\n",
    "    \n",
    "    pred = mean_pred > segm_thresh\n",
    "    prob = int(prob > prob_thresh)\n",
    "    pred = (pred * prob).astype(np.uint8)\n",
    "    \n",
    "    if np.all(pred == 1):\n",
    "        pred[:] = 0\n",
    "        print('Full mask to empty', pred_name)\n",
    "\n",
    "    rle_mask = RLenc(pred)\n",
    "    cv2.imwrite(f'/workdir/data/{SAVE_NAME}/{pred_name}', pred * 255)\n",
    "    row.rle_mask = rle_mask\n",
    "\n",
    "sample_submition.to_csv(f'/workdir/data/submissions/{SAVE_NAME}.csv', index=False) "
   ]
  },
  {
   "cell_type": "code",
   "execution_count": null,
   "metadata": {},
   "outputs": [],
   "source": [
    "import matplotlib.pyplot as plt\n",
    "%matplotlib inline\n",
    "\n",
    "plt.hist(mean_probs_df.prob.values, bins=20)"
   ]
  },
  {
   "cell_type": "code",
   "execution_count": null,
   "metadata": {},
   "outputs": [],
   "source": []
  }
 ],
 "metadata": {
  "kernelspec": {
   "display_name": "Python 3",
   "language": "python",
   "name": "python3"
  },
  "language_info": {
   "codemirror_mode": {
    "name": "ipython",
    "version": 3
   },
   "file_extension": ".py",
   "mimetype": "text/x-python",
   "name": "python",
   "nbconvert_exporter": "python",
   "pygments_lexer": "ipython3",
   "version": "3.6.5"
  }
 },
 "nbformat": 4,
 "nbformat_minor": 2
}
