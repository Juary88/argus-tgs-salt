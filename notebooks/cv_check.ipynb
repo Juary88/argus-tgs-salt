{
 "cells": [
  {
   "cell_type": "code",
   "execution_count": null,
   "metadata": {},
   "outputs": [],
   "source": [
    "import numpy as np \n",
    "import pandas as pd\n",
    "import cv2\n",
    "\n",
    "import os\n",
    "from os.path import join\n",
    "\n",
    "from src import config\n",
    "from src.metrics import compute_eval_metric\n",
    "\n",
    "from src.transforms import CenterCrop\n",
    "\n",
    "import matplotlib.pyplot as plt\n",
    "%matplotlib inline"
   ]
  },
  {
   "cell_type": "code",
   "execution_count": null,
   "metadata": {},
   "outputs": [],
   "source": [
    "PREDICTION_DIR = '/workdir/data/predictions/mos-fpn-lovasz-se-resnext50-001'\n",
    "TRAIN_FOLDS_PATH = '/workdir/data/train_folds_148_mos_emb_1.csv'\n",
    "SEGM_THRESH = 0.5\n",
    "PROB_THRESH = 0.6"
   ]
  },
  {
   "cell_type": "code",
   "execution_count": null,
   "metadata": {
    "scrolled": false
   },
   "outputs": [],
   "source": [
    "folds_df = pd.read_csv(TRAIN_FOLDS_PATH)\n",
    "score_lst = []\n",
    "probs_df_dict = dict()\n",
    "\n",
    "crop = CenterCrop((101, 101))\n",
    "\n",
    "for i, row in folds_df.iterrows():\n",
    "    if row.fold == 5:\n",
    "        continue\n",
    "    \n",
    "    true_mask = cv2.imread(row.mask_path, cv2.IMREAD_GRAYSCALE)\n",
    "    pred_mask_path = join(PREDICTION_DIR, f'fold_{row.fold}', 'val', row.id+'.png')\n",
    "    \n",
    "    if row.fold not in probs_df_dict:\n",
    "        probs_path = join(PREDICTION_DIR, f'fold_{row.fold}', 'val', 'probs.csv')\n",
    "        probs_df_dict[row.fold] = pd.read_csv(probs_path, index_col='id')\n",
    "        \n",
    "    prob = probs_df_dict[row.fold].loc[row.id].prob\n",
    "    prob = prob > PROB_THRESH\n",
    "    \n",
    "    prob_mask = cv2.imread(pred_mask_path, cv2.IMREAD_GRAYSCALE)\n",
    "    pred_mask = (prob_mask / 255.0) > SEGM_THRESH\n",
    "    pred_mask *= prob\n",
    "    true_mask = true_mask.astype(bool).astype(np.uint8)\n",
    "    pred_mask = pred_mask.astype(bool).astype(np.uint8)\n",
    "    \n",
    "    score = compute_eval_metric(crop(true_mask), pred_mask)\n",
    "    score_lst.append((row.id, score))\n",
    "    \n",
    "#     if  score < 0.2:\n",
    "#         print(score, row.id, probs_df_dict[row.fold].loc[row.id].prob)\n",
    "#         image_path = join(config.TRAIN_DIR, 'images', row.id+'.png')\n",
    "#         image = cv2.imread(image_path, cv2.IMREAD_GRAYSCALE)\n",
    "        \n",
    "#         f, axarr = plt.subplots(1, 4)\n",
    "#         f.set_figheight(4)\n",
    "#         f.set_figwidth(12)\n",
    "#         axarr[0].imshow(image)\n",
    "#         axarr[0].set_title('image')\n",
    "#         axarr[1].imshow(true_mask)\n",
    "#         axarr[1].set_title('true')\n",
    "#         axarr[2].imshow(pred_mask)\n",
    "#         axarr[2].set_title('pred')\n",
    "#         axarr[3].imshow(prob_mask)\n",
    "#         axarr[3].set_title('prob mask')\n",
    "#         plt.show()\n"
   ]
  },
  {
   "cell_type": "code",
   "execution_count": null,
   "metadata": {},
   "outputs": [],
   "source": [
    "print(np.mean([score for id, score in score_lst]))\n",
    "plt.hist([score for id, score in score_lst], bins=20)"
   ]
  },
  {
   "cell_type": "code",
   "execution_count": null,
   "metadata": {},
   "outputs": [],
   "source": []
  }
 ],
 "metadata": {
  "kernelspec": {
   "display_name": "Python 3",
   "language": "python",
   "name": "python3"
  },
  "language_info": {
   "codemirror_mode": {
    "name": "ipython",
    "version": 3
   },
   "file_extension": ".py",
   "mimetype": "text/x-python",
   "name": "python",
   "nbconvert_exporter": "python",
   "pygments_lexer": "ipython3",
   "version": "3.6.5"
  }
 },
 "nbformat": 4,
 "nbformat_minor": 2
}
