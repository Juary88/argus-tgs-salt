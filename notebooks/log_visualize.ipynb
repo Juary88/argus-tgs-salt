{
 "cells": [
  {
   "cell_type": "code",
   "execution_count": null,
   "metadata": {},
   "outputs": [],
   "source": [
    "import os\n",
    "\n",
    "from plotly import tools\n",
    "from plotly.offline import init_notebook_mode, plot, iplot\n",
    "import plotly.graph_objs as go\n",
    "\n",
    "\n",
    "init_notebook_mode(connected=True)"
   ]
  },
  {
   "cell_type": "code",
   "execution_count": null,
   "metadata": {},
   "outputs": [],
   "source": [
    "def parce_log(log, key_names=['Train', 'Validation']):\n",
    "    def fix_number(str_num):\n",
    "        if str_num[-1] == ',':\n",
    "            str_num = str_num[:-1]\n",
    "        num_type = int\n",
    "        if '.' in str_num:\n",
    "            num_type = float\n",
    "        return num_type(str_num)\n",
    "    \n",
    "    def fix_name(str_name):\n",
    "        if str_name[-1] == ':':\n",
    "            str_name = str_name[:-1]\n",
    "        return str_name\n",
    "\n",
    "    parsed_log = dict((key,[]) for key in key_names)\n",
    "    for line in log:\n",
    "        line = line.split()\n",
    "        tine_type = line[3]\n",
    "        if tine_type in key_names:\n",
    "            keys = [fix_name(line[i]) for i in range(5, len(line), 2)]\n",
    "            values = [fix_number(line[i]) for i in range(6, len(line), 2)]\n",
    "            sample_dict = {k:v for (k,v) in zip(keys, values)}\n",
    "            parsed_log[tine_type].append(sample_dict)\n",
    "    return parsed_log\n",
    "\n",
    "def plot_data(log_list: list, log_id=None):\n",
    "    x_name = 'Epoch'\n",
    "    log_names = list(log_list[0].keys())\n",
    "    data = [[] for _  in log_names]\n",
    "\n",
    "    for sample in log_list:\n",
    "        for i, name in enumerate(log_names):\n",
    "            data[i].append(sample[name])\n",
    "    \n",
    "    plots = []\n",
    "    for i in range(1, len(data)):\n",
    "        if log_id is not None:\n",
    "            name = log_names[i]+' '+str(log_id)\n",
    "        else:\n",
    "            name = log_names[i]\n",
    "        plots.append(go.Scatter(x=data[0],\n",
    "                                y=data[i],\n",
    "                                mode='lines+markers',\n",
    "                                name=name))\n",
    "    return plots\n",
    "\n",
    "def get_plot_data(log_path, key_names, log_id=None):\n",
    "    data = []\n",
    "    with open(log_path, 'r') as f:  \n",
    "        data = f.readlines()\n",
    "\n",
    "    log = parce_log(data, key_names)\n",
    "    plots = []\n",
    "    for name in key_names:\n",
    "        plots+= plot_data(log[name], log_id)\n",
    "    return plots\n",
    "\n",
    "def draw_log(log_path, key_names, log_id=None):\n",
    "    plots = get_plot_data(log_path, key_names, log_id)\n",
    "    iplot(plots)\n",
    "\n",
    "def draw_folds(log_paths, key_names):\n",
    "    paths = [log_path for log_path in log_paths]\n",
    "    \n",
    "    plots = [get_plot_data(log_path, key_names, i) for (i, log_path) in enumerate(paths)]\n",
    "\n",
    "    for i, plot in enumerate(plots):\n",
    "        layout = go.Layout(title='Fold '+str(i))\n",
    "\n",
    "        fig = go.Figure(data=plot, layout=layout)\n",
    "        iplot(fig)\n",
    "\n",
    "def compare_folds(log_paths, key_names):\n",
    "    paths = [log_path for log_path in log_paths]\n",
    "    plots = [get_plot_data(log_path, key_names, i) for (i, log_path) in enumerate(paths)]\n",
    "\n",
    "    fig = tools.make_subplots(rows=len(plots[0]), cols=1, specs=[[{}], [{}], [{}]],\n",
    "                          shared_xaxes=True, shared_yaxes=False,\n",
    "                          vertical_spacing=0.1)\n",
    "\n",
    "    for i, plot in enumerate(plots):\n",
    "        for j in range(len(plot)):\n",
    "            fig.append_trace(plot[j], j+1, 1)\n",
    "    fig['layout'].update(height=300*len(plots), width=800, showlegend=False)\n",
    "    iplot(fig)"
   ]
  },
  {
   "cell_type": "code",
   "execution_count": null,
   "metadata": {},
   "outputs": [],
   "source": [
    "exp_path = '../data/experiments/densenet121-folds-001/'\n",
    "log_file = 'log.txt'\n",
    "key_names=['Train', 'Validation']\n",
    "\n",
    "folds_paths = [os.path.join(os.path.join(exp_path, fold_name), log_file) for fold_name in os.listdir(exp_path)\n",
    "               if os.path.isdir(os.path.join(exp_path, fold_name))]"
   ]
  },
  {
   "cell_type": "code",
   "execution_count": null,
   "metadata": {},
   "outputs": [],
   "source": [
    "draw_log(folds_paths[0], key_names)"
   ]
  },
  {
   "cell_type": "code",
   "execution_count": null,
   "metadata": {
    "scrolled": false
   },
   "outputs": [],
   "source": [
    "draw_folds(folds_paths, key_names)"
   ]
  },
  {
   "cell_type": "code",
   "execution_count": null,
   "metadata": {},
   "outputs": [],
   "source": [
    "compare_folds(folds_paths, key_names)"
   ]
  },
  {
   "cell_type": "code",
   "execution_count": null,
   "metadata": {},
   "outputs": [],
   "source": []
  }
 ],
 "metadata": {
  "kernelspec": {
   "display_name": "Python 3",
   "language": "python",
   "name": "python3"
  },
  "language_info": {
   "codemirror_mode": {
    "name": "ipython",
    "version": 3
   },
   "file_extension": ".py",
   "mimetype": "text/x-python",
   "name": "python",
   "nbconvert_exporter": "python",
   "pygments_lexer": "ipython3",
   "version": "3.6.5"
  }
 },
 "nbformat": 4,
 "nbformat_minor": 2
}
